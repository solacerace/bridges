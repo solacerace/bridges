{
 "cells": [
  {
   "cell_type": "markdown",
   "metadata": {},
   "source": [
    "## 1. Get the historical data"
   ]
  },
  {
   "cell_type": "markdown",
   "metadata": {},
   "source": [
    "## 2. Feature Extraction"
   ]
  },
  {
   "cell_type": "markdown",
   "metadata": {},
   "source": [
    "### 2.1 OHLC Feature"
   ]
  },
  {
   "cell_type": "markdown",
   "metadata": {},
   "source": [
    "OHLC <br>\n",
    "Return Sign <br>\n",
    "Momentum  <br>\n",
    "Simple Moving Average of close <br>\n",
    "Simple Moving Average of log return <br>\n",
    "Lagged Returns  <br>\n",
    "\n",
    "RSI <br>\n",
    "MACD <br>\n",
    "EWMA Price <br>\n",
    "EWMA as applied to variance <br>\n"
   ]
  },
  {
   "cell_type": "code",
   "execution_count": 20,
   "metadata": {},
   "outputs": [],
   "source": [
    "from enum import Enum "
   ]
  },
  {
   "cell_type": "code",
   "execution_count": 21,
   "metadata": {},
   "outputs": [],
   "source": [
    "class Animal(Enum):\n",
    "    ant = 1\n",
    "    bee = 2\n",
    "    cat = 3\n",
    "    dog = 4"
   ]
  },
  {
   "cell_type": "code",
   "execution_count": 22,
   "metadata": {},
   "outputs": [
    {
     "data": {
      "text/plain": [
       "<Animal.ant: 1>"
      ]
     },
     "execution_count": 22,
     "metadata": {},
     "output_type": "execute_result"
    }
   ],
   "source": [
    "Animal.ant "
   ]
  },
  {
   "cell_type": "code",
   "execution_count": 23,
   "metadata": {},
   "outputs": [],
   "source": [
    "vals = [Animal.ant, Animal.bee]"
   ]
  },
  {
   "cell_type": "code",
   "execution_count": 24,
   "metadata": {},
   "outputs": [
    {
     "data": {
      "text/plain": [
       "[<Animal.ant: 1>, <Animal.bee: 2>]"
      ]
     },
     "execution_count": 24,
     "metadata": {},
     "output_type": "execute_result"
    }
   ],
   "source": [
    "vals"
   ]
  },
  {
   "cell_type": "code",
   "execution_count": 25,
   "metadata": {},
   "outputs": [
    {
     "name": "stdout",
     "output_type": "stream",
     "text": [
      "ant found\n"
     ]
    }
   ],
   "source": [
    "if Animal.ant in vals:\n",
    "    print('ant found')"
   ]
  },
  {
   "cell_type": "code",
   "execution_count": 26,
   "metadata": {},
   "outputs": [],
   "source": [
    "if Animal.cat in vals:\n",
    "    print('cat found')"
   ]
  },
  {
   "cell_type": "code",
   "execution_count": 27,
   "metadata": {},
   "outputs": [],
   "source": [
    "class Feature(Enum):\n",
    "    OHLC           = 1\n",
    "    LAGGED_RETURNS = 2\n",
    "    SMA_PRICE      = 3\n",
    "    SMA_RETURNS    = 4\n",
    "    RSI            = 5\n",
    "    MACD           = 6\n",
    "    EWMA_PRICE     = 7\n",
    "    EWMA_VAR       = 8\n",
    "    VAR            = 9"
   ]
  },
  {
   "cell_type": "code",
   "execution_count": 28,
   "metadata": {},
   "outputs": [],
   "source": [
    "def get_data(features):\n",
    "    # Download the histo market data\n",
    "    # Extract the Features\n",
    "    # Returns Featurs and columns\n",
    "    data = []\n",
    "    cols = []\n",
    "    if Feature.OHLC in features:\n",
    "        \n",
    "    return data, cols"
   ]
  },
  {
   "cell_type": "code",
   "execution_count": 29,
   "metadata": {},
   "outputs": [],
   "source": [
    "data, cols = get_data(\n",
    "    [Feature.OHLC,  \n",
    "     Feature.LAGGED_RETURNS,  \n",
    "     Feature.SMA_PRICE,  \n",
    "     Feature.SMA_RETURNS,  \n",
    "     Feature.RSI,  \n",
    "     Feature.MACD, \n",
    "     Feature.EWMA_PRICE,  \n",
    "     Feature.EWMA_VAR])"
   ]
  },
  {
   "cell_type": "code",
   "execution_count": 30,
   "metadata": {},
   "outputs": [],
   "source": [
    "# Fit the model"
   ]
  },
  {
   "cell_type": "code",
   "execution_count": 31,
   "metadata": {},
   "outputs": [],
   "source": [
    "# Predict"
   ]
  },
  {
   "cell_type": "code",
   "execution_count": 32,
   "metadata": {},
   "outputs": [],
   "source": [
    "# Plot"
   ]
  },
  {
   "cell_type": "code",
   "execution_count": null,
   "metadata": {},
   "outputs": [],
   "source": []
  },
  {
   "cell_type": "code",
   "execution_count": null,
   "metadata": {},
   "outputs": [],
   "source": []
  }
 ],
 "metadata": {
  "kernelspec": {
   "display_name": "Python 3",
   "language": "python",
   "name": "python3"
  },
  "language_info": {
   "codemirror_mode": {
    "name": "ipython",
    "version": 3
   },
   "file_extension": ".py",
   "mimetype": "text/x-python",
   "name": "python",
   "nbconvert_exporter": "python",
   "pygments_lexer": "ipython3",
   "version": "3.6.5"
  }
 },
 "nbformat": 4,
 "nbformat_minor": 2
}
