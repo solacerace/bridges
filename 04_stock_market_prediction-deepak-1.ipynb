{
 "cells": [
  {
   "cell_type": "markdown",
   "metadata": {},
   "source": [
    "<img src=\"http://hilpisch.com/tpq_logo.png\" width=350px align=\"right\">"
   ]
  },
  {
   "cell_type": "markdown",
   "metadata": {},
   "source": [
    "# Stock Market Prediction"
   ]
  },
  {
   "cell_type": "markdown",
   "metadata": {},
   "source": [
    "&copy; Dr. Yves J. Hilpisch\n",
    "\n",
    "The Python Quants GmbH"
   ]
  },
  {
   "cell_type": "code",
   "execution_count": 356,
   "metadata": {},
   "outputs": [],
   "source": [
    "import numpy as np\n",
    "import pandas as pd\n",
    "from pylab import plt\n",
    "plt.style.use('seaborn')\n",
    "%matplotlib inline\n",
    "from pandas_datareader import data as web"
   ]
  },
  {
   "cell_type": "markdown",
   "metadata": {},
   "source": [
    "## Getting Historical Data"
   ]
  },
  {
   "cell_type": "code",
   "execution_count": 357,
   "metadata": {},
   "outputs": [],
   "source": [
    "data = pd.DataFrame(web.DataReader('AMZN', data_source='yahoo')['Close'])"
   ]
  },
  {
   "cell_type": "code",
   "execution_count": 358,
   "metadata": {},
   "outputs": [],
   "source": [
    "data.columns = ['prices']"
   ]
  },
  {
   "cell_type": "code",
   "execution_count": 359,
   "metadata": {},
   "outputs": [
    {
     "name": "stdout",
     "output_type": "stream",
     "text": [
      "<class 'pandas.core.frame.DataFrame'>\n",
      "DatetimeIndex: 2396 entries, 2009-12-31 to 2019-07-10\n",
      "Data columns (total 1 columns):\n",
      "prices    2396 non-null float64\n",
      "dtypes: float64(1)\n",
      "memory usage: 37.4 KB\n"
     ]
    }
   ],
   "source": [
    "data.info()"
   ]
  },
  {
   "cell_type": "code",
   "execution_count": 360,
   "metadata": {},
   "outputs": [],
   "source": [
    "# !conda install -y pandas-datareader"
   ]
  },
  {
   "cell_type": "code",
   "execution_count": 361,
   "metadata": {},
   "outputs": [],
   "source": [
    "# !conda install -y pandas=0.19"
   ]
  },
  {
   "cell_type": "code",
   "execution_count": 362,
   "metadata": {},
   "outputs": [
    {
     "data": {
      "text/plain": [
       "'0.23.0'"
      ]
     },
     "execution_count": 362,
     "metadata": {},
     "output_type": "execute_result"
    }
   ],
   "source": [
    "pd.__version__"
   ]
  },
  {
   "cell_type": "code",
   "execution_count": 363,
   "metadata": {},
   "outputs": [
    {
     "data": {
      "image/png": "[encoded data removed]",
      "text/plain": [
       "<Figure size 720x432 with 1 Axes>"
      ]
     },
     "metadata": {},
     "output_type": "display_data"
    }
   ],
   "source": [
    "data.plot(figsize=(10, 6));"
   ]
  },
  {
   "cell_type": "code",
   "execution_count": 364,
   "metadata": {},
   "outputs": [],
   "source": [
    "data['returns'] = np.log(data / data.shift(1))"
   ]
  },
  {
   "cell_type": "code",
   "execution_count": 365,
   "metadata": {},
   "outputs": [
    {
     "data": {
      "text/html": [
       "<div>\n",
       "<style scoped>\n",
       "    .dataframe tbody tr th:only-of-type {\n",
       "        vertical-align: middle;\n",
       "    }\n",
       "\n",
       "    .dataframe tbody tr th {\n",
       "        vertical-align: top;\n",
       "    }\n",
       "\n",
       "    .dataframe thead th {\n",
       "        text-align: right;\n",
       "    }\n",
       "</style>\n",
       "<table border=\"1\" class=\"dataframe\">\n",
       "  <thead>\n",
       "    <tr style=\"text-align: right;\">\n",
       "      <th></th>\n",
       "      <th>prices</th>\n",
       "      <th>returns</th>\n",
       "    </tr>\n",
       "    <tr>\n",
       "      <th>Date</th>\n",
       "      <th></th>\n",
       "      <th></th>\n",
       "    </tr>\n",
       "  </thead>\n",
       "  <tbody>\n",
       "    <tr>\n",
       "      <th>2009-12-31</th>\n",
       "      <td>134.520004</td>\n",
       "      <td>NaN</td>\n",
       "    </tr>\n",
       "    <tr>\n",
       "      <th>2010-01-04</th>\n",
       "      <td>133.899994</td>\n",
       "      <td>-0.004620</td>\n",
       "    </tr>\n",
       "    <tr>\n",
       "      <th>2010-01-05</th>\n",
       "      <td>134.690002</td>\n",
       "      <td>0.005883</td>\n",
       "    </tr>\n",
       "    <tr>\n",
       "      <th>2010-01-06</th>\n",
       "      <td>132.250000</td>\n",
       "      <td>-0.018282</td>\n",
       "    </tr>\n",
       "    <tr>\n",
       "      <th>2010-01-07</th>\n",
       "      <td>130.000000</td>\n",
       "      <td>-0.017160</td>\n",
       "    </tr>\n",
       "  </tbody>\n",
       "</table>\n",
       "</div>"
      ],
      "text/plain": [
       "                prices   returns\n",
       "Date                            \n",
       "2009-12-31  134.520004       NaN\n",
       "2010-01-04  133.899994 -0.004620\n",
       "2010-01-05  134.690002  0.005883\n",
       "2010-01-06  132.250000 -0.018282\n",
       "2010-01-07  130.000000 -0.017160"
      ]
     },
     "execution_count": 365,
     "metadata": {},
     "output_type": "execute_result"
    }
   ],
   "source": [
    "data.head()"
   ]
  },
  {
   "cell_type": "code",
   "execution_count": 366,
   "metadata": {},
   "outputs": [],
   "source": [
    "lags = 5"
   ]
  },
  {
   "cell_type": "code",
   "execution_count": 367,
   "metadata": {},
   "outputs": [],
   "source": [
    "cols = []"
   ]
  },
  {
   "cell_type": "code",
   "execution_count": 368,
   "metadata": {},
   "outputs": [],
   "source": [
    "for lag in range(1, lags+1):\n",
    "    col = 'ret_%d' % lag\n",
    "    data[col] = data['returns'].shift(lag)\n",
    "    cols.append(col)"
   ]
  },
  {
   "cell_type": "code",
   "execution_count": 369,
   "metadata": {
    "scrolled": true
   },
   "outputs": [
    {
     "data": {
      "text/html": [
       "<div>\n",
       "<style scoped>\n",
       "    .dataframe tbody tr th:only-of-type {\n",
       "        vertical-align: middle;\n",
       "    }\n",
       "\n",
       "    .dataframe tbody tr th {\n",
       "        vertical-align: top;\n",
       "    }\n",
       "\n",
       "    .dataframe thead th {\n",
       "        text-align: right;\n",
       "    }\n",
       "</style>\n",
       "<table border=\"1\" class=\"dataframe\">\n",
       "  <thead>\n",
       "    <tr style=\"text-align: right;\">\n",
       "      <th></th>\n",
       "      <th>prices</th>\n",
       "      <th>returns</th>\n",
       "      <th>ret_1</th>\n",
       "      <th>ret_2</th>\n",
       "      <th>ret_3</th>\n",
       "      <th>ret_4</th>\n",
       "      <th>ret_5</th>\n",
       "    </tr>\n",
       "    <tr>\n",
       "      <th>Date</th>\n",
       "      <th></th>\n",
       "      <th></th>\n",
       "      <th></th>\n",
       "      <th></th>\n",
       "      <th></th>\n",
       "      <th></th>\n",
       "      <th></th>\n",
       "    </tr>\n",
       "  </thead>\n",
       "  <tbody>\n",
       "    <tr>\n",
       "      <th>2009-12-31</th>\n",
       "      <td>134.520004</td>\n",
       "      <td>NaN</td>\n",
       "      <td>NaN</td>\n",
       "      <td>NaN</td>\n",
       "      <td>NaN</td>\n",
       "      <td>NaN</td>\n",
       "      <td>NaN</td>\n",
       "    </tr>\n",
       "    <tr>\n",
       "      <th>2010-01-04</th>\n",
       "      <td>133.899994</td>\n",
       "      <td>-0.004620</td>\n",
       "      <td>NaN</td>\n",
       "      <td>NaN</td>\n",
       "      <td>NaN</td>\n",
       "      <td>NaN</td>\n",
       "      <td>NaN</td>\n",
       "    </tr>\n",
       "    <tr>\n",
       "      <th>2010-01-05</th>\n",
       "      <td>134.690002</td>\n",
       "      <td>0.005883</td>\n",
       "      <td>-0.004620</td>\n",
       "      <td>NaN</td>\n",
       "      <td>NaN</td>\n",
       "      <td>NaN</td>\n",
       "      <td>NaN</td>\n",
       "    </tr>\n",
       "    <tr>\n",
       "      <th>2010-01-06</th>\n",
       "      <td>132.250000</td>\n",
       "      <td>-0.018282</td>\n",
       "      <td>0.005883</td>\n",
       "      <td>-0.004620</td>\n",
       "      <td>NaN</td>\n",
       "      <td>NaN</td>\n",
       "      <td>NaN</td>\n",
       "    </tr>\n",
       "    <tr>\n",
       "      <th>2010-01-07</th>\n",
       "      <td>130.000000</td>\n",
       "      <td>-0.017160</td>\n",
       "      <td>-0.018282</td>\n",
       "      <td>0.005883</td>\n",
       "      <td>-0.00462</td>\n",
       "      <td>NaN</td>\n",
       "      <td>NaN</td>\n",
       "    </tr>\n",
       "  </tbody>\n",
       "</table>\n",
       "</div>"
      ],
      "text/plain": [
       "                prices   returns     ret_1     ret_2    ret_3  ret_4  ret_5\n",
       "Date                                                                       \n",
       "2009-12-31  134.520004       NaN       NaN       NaN      NaN    NaN    NaN\n",
       "2010-01-04  133.899994 -0.004620       NaN       NaN      NaN    NaN    NaN\n",
       "2010-01-05  134.690002  0.005883 -0.004620       NaN      NaN    NaN    NaN\n",
       "2010-01-06  132.250000 -0.018282  0.005883 -0.004620      NaN    NaN    NaN\n",
       "2010-01-07  130.000000 -0.017160 -0.018282  0.005883 -0.00462    NaN    NaN"
      ]
     },
     "execution_count": 369,
     "metadata": {},
     "output_type": "execute_result"
    }
   ],
   "source": [
    "data.head()"
   ]
  },
  {
   "cell_type": "code",
   "execution_count": 370,
   "metadata": {},
   "outputs": [],
   "source": [
    "data.dropna(inplace=True)"
   ]
  },
  {
   "cell_type": "code",
   "execution_count": 371,
   "metadata": {},
   "outputs": [
    {
     "data": {
      "text/html": [
       "<div>\n",
       "<style scoped>\n",
       "    .dataframe tbody tr th:only-of-type {\n",
       "        vertical-align: middle;\n",
       "    }\n",
       "\n",
       "    .dataframe tbody tr th {\n",
       "        vertical-align: top;\n",
       "    }\n",
       "\n",
       "    .dataframe thead th {\n",
       "        text-align: right;\n",
       "    }\n",
       "</style>\n",
       "<table border=\"1\" class=\"dataframe\">\n",
       "  <thead>\n",
       "    <tr style=\"text-align: right;\">\n",
       "      <th></th>\n",
       "      <th>prices</th>\n",
       "      <th>returns</th>\n",
       "      <th>ret_1</th>\n",
       "      <th>ret_2</th>\n",
       "      <th>ret_3</th>\n",
       "      <th>ret_4</th>\n",
       "      <th>ret_5</th>\n",
       "    </tr>\n",
       "    <tr>\n",
       "      <th>Date</th>\n",
       "      <th></th>\n",
       "      <th></th>\n",
       "      <th></th>\n",
       "      <th></th>\n",
       "      <th></th>\n",
       "      <th></th>\n",
       "      <th></th>\n",
       "    </tr>\n",
       "  </thead>\n",
       "  <tbody>\n",
       "    <tr>\n",
       "      <th>2010-01-11</th>\n",
       "      <td>130.309998</td>\n",
       "      <td>-0.024335</td>\n",
       "      <td>0.026717</td>\n",
       "      <td>-0.017160</td>\n",
       "      <td>-0.018282</td>\n",
       "      <td>0.005883</td>\n",
       "      <td>-0.004620</td>\n",
       "    </tr>\n",
       "    <tr>\n",
       "      <th>2010-01-12</th>\n",
       "      <td>127.349998</td>\n",
       "      <td>-0.022977</td>\n",
       "      <td>-0.024335</td>\n",
       "      <td>0.026717</td>\n",
       "      <td>-0.017160</td>\n",
       "      <td>-0.018282</td>\n",
       "      <td>0.005883</td>\n",
       "    </tr>\n",
       "    <tr>\n",
       "      <th>2010-01-13</th>\n",
       "      <td>129.110001</td>\n",
       "      <td>0.013726</td>\n",
       "      <td>-0.022977</td>\n",
       "      <td>-0.024335</td>\n",
       "      <td>0.026717</td>\n",
       "      <td>-0.017160</td>\n",
       "      <td>-0.018282</td>\n",
       "    </tr>\n",
       "    <tr>\n",
       "      <th>2010-01-14</th>\n",
       "      <td>127.349998</td>\n",
       "      <td>-0.013726</td>\n",
       "      <td>0.013726</td>\n",
       "      <td>-0.022977</td>\n",
       "      <td>-0.024335</td>\n",
       "      <td>0.026717</td>\n",
       "      <td>-0.017160</td>\n",
       "    </tr>\n",
       "    <tr>\n",
       "      <th>2010-01-15</th>\n",
       "      <td>127.139999</td>\n",
       "      <td>-0.001650</td>\n",
       "      <td>-0.013726</td>\n",
       "      <td>0.013726</td>\n",
       "      <td>-0.022977</td>\n",
       "      <td>-0.024335</td>\n",
       "      <td>0.026717</td>\n",
       "    </tr>\n",
       "  </tbody>\n",
       "</table>\n",
       "</div>"
      ],
      "text/plain": [
       "                prices   returns     ret_1     ret_2     ret_3     ret_4  \\\n",
       "Date                                                                       \n",
       "2010-01-11  130.309998 -0.024335  0.026717 -0.017160 -0.018282  0.005883   \n",
       "2010-01-12  127.349998 -0.022977 -0.024335  0.026717 -0.017160 -0.018282   \n",
       "2010-01-13  129.110001  0.013726 -0.022977 -0.024335  0.026717 -0.017160   \n",
       "2010-01-14  127.349998 -0.013726  0.013726 -0.022977 -0.024335  0.026717   \n",
       "2010-01-15  127.139999 -0.001650 -0.013726  0.013726 -0.022977 -0.024335   \n",
       "\n",
       "               ret_5  \n",
       "Date                  \n",
       "2010-01-11 -0.004620  \n",
       "2010-01-12  0.005883  \n",
       "2010-01-13 -0.018282  \n",
       "2010-01-14 -0.017160  \n",
       "2010-01-15  0.026717  "
      ]
     },
     "execution_count": 371,
     "metadata": {},
     "output_type": "execute_result"
    }
   ],
   "source": [
    "data.head()"
   ]
  },
  {
   "cell_type": "code",
   "execution_count": 372,
   "metadata": {},
   "outputs": [],
   "source": [
    "def gaussian(xa):\n",
    "    x = xa.copy()\n",
    "    mean = x.mean()\n",
    "    std = x.std()\n",
    "    return (x - mean) / std, mean, std"
   ]
  },
  {
   "cell_type": "code",
   "execution_count": 373,
   "metadata": {},
   "outputs": [],
   "source": [
    "## Additional Features\n",
    "# 1. EWMA\n",
    "data['ewm20'] = data['prices'].ewm(span=20, adjust=False).mean()\n",
    "data['ewm20'], mean, std = gaussian(data['ewm20'])\n",
    "cols.append('ewm20')"
   ]
  },
  {
   "cell_type": "code",
   "execution_count": 374,
   "metadata": {},
   "outputs": [
    {
     "data": {
      "text/html": [
       "<div>\n",
       "<style scoped>\n",
       "    .dataframe tbody tr th:only-of-type {\n",
       "        vertical-align: middle;\n",
       "    }\n",
       "\n",
       "    .dataframe tbody tr th {\n",
       "        vertical-align: top;\n",
       "    }\n",
       "\n",
       "    .dataframe thead th {\n",
       "        text-align: right;\n",
       "    }\n",
       "</style>\n",
       "<table border=\"1\" class=\"dataframe\">\n",
       "  <thead>\n",
       "    <tr style=\"text-align: right;\">\n",
       "      <th></th>\n",
       "      <th>prices</th>\n",
       "      <th>returns</th>\n",
       "      <th>ret_1</th>\n",
       "      <th>ret_2</th>\n",
       "      <th>ret_3</th>\n",
       "      <th>ret_4</th>\n",
       "      <th>ret_5</th>\n",
       "      <th>ewm20</th>\n",
       "    </tr>\n",
       "    <tr>\n",
       "      <th>Date</th>\n",
       "      <th></th>\n",
       "      <th></th>\n",
       "      <th></th>\n",
       "      <th></th>\n",
       "      <th></th>\n",
       "      <th></th>\n",
       "      <th></th>\n",
       "      <th></th>\n",
       "    </tr>\n",
       "  </thead>\n",
       "  <tbody>\n",
       "    <tr>\n",
       "      <th>2010-01-11</th>\n",
       "      <td>130.309998</td>\n",
       "      <td>-0.024335</td>\n",
       "      <td>0.026717</td>\n",
       "      <td>-0.017160</td>\n",
       "      <td>-0.018282</td>\n",
       "      <td>0.005883</td>\n",
       "      <td>-0.004620</td>\n",
       "      <td>-0.913415</td>\n",
       "    </tr>\n",
       "    <tr>\n",
       "      <th>2010-01-12</th>\n",
       "      <td>127.349998</td>\n",
       "      <td>-0.022977</td>\n",
       "      <td>-0.024335</td>\n",
       "      <td>0.026717</td>\n",
       "      <td>-0.017160</td>\n",
       "      <td>-0.018282</td>\n",
       "      <td>0.005883</td>\n",
       "      <td>-0.913949</td>\n",
       "    </tr>\n",
       "    <tr>\n",
       "      <th>2010-01-13</th>\n",
       "      <td>129.110001</td>\n",
       "      <td>0.013726</td>\n",
       "      <td>-0.022977</td>\n",
       "      <td>-0.024335</td>\n",
       "      <td>0.026717</td>\n",
       "      <td>-0.017160</td>\n",
       "      <td>-0.018282</td>\n",
       "      <td>-0.914114</td>\n",
       "    </tr>\n",
       "    <tr>\n",
       "      <th>2010-01-14</th>\n",
       "      <td>127.349998</td>\n",
       "      <td>-0.013726</td>\n",
       "      <td>0.013726</td>\n",
       "      <td>-0.022977</td>\n",
       "      <td>-0.024335</td>\n",
       "      <td>0.026717</td>\n",
       "      <td>-0.017160</td>\n",
       "      <td>-0.914581</td>\n",
       "    </tr>\n",
       "    <tr>\n",
       "      <th>2010-01-15</th>\n",
       "      <td>127.139999</td>\n",
       "      <td>-0.001650</td>\n",
       "      <td>-0.013726</td>\n",
       "      <td>0.013726</td>\n",
       "      <td>-0.022977</td>\n",
       "      <td>-0.024335</td>\n",
       "      <td>0.026717</td>\n",
       "      <td>-0.915041</td>\n",
       "    </tr>\n",
       "  </tbody>\n",
       "</table>\n",
       "</div>"
      ],
      "text/plain": [
       "                prices   returns     ret_1     ret_2     ret_3     ret_4  \\\n",
       "Date                                                                       \n",
       "2010-01-11  130.309998 -0.024335  0.026717 -0.017160 -0.018282  0.005883   \n",
       "2010-01-12  127.349998 -0.022977 -0.024335  0.026717 -0.017160 -0.018282   \n",
       "2010-01-13  129.110001  0.013726 -0.022977 -0.024335  0.026717 -0.017160   \n",
       "2010-01-14  127.349998 -0.013726  0.013726 -0.022977 -0.024335  0.026717   \n",
       "2010-01-15  127.139999 -0.001650 -0.013726  0.013726 -0.022977 -0.024335   \n",
       "\n",
       "               ret_5     ewm20  \n",
       "Date                            \n",
       "2010-01-11 -0.004620 -0.913415  \n",
       "2010-01-12  0.005883 -0.913949  \n",
       "2010-01-13 -0.018282 -0.914114  \n",
       "2010-01-14 -0.017160 -0.914581  \n",
       "2010-01-15  0.026717 -0.915041  "
      ]
     },
     "execution_count": 374,
     "metadata": {},
     "output_type": "execute_result"
    }
   ],
   "source": [
    "data.head()"
   ]
  },
  {
   "cell_type": "code",
   "execution_count": 375,
   "metadata": {},
   "outputs": [],
   "source": [
    "# 2. EWStandard Deviation\n",
    "#data['ewstd20'] = data['prices'].ewm(span=20, adjust=False).std()\n",
    "#data['ewstd20'], mean, std = gaussian(data['ewstd20'])\n",
    "#cols.append('ewstd20')"
   ]
  },
  {
   "cell_type": "code",
   "execution_count": 376,
   "metadata": {},
   "outputs": [
    {
     "data": {
      "text/html": [
       "<div>\n",
       "<style scoped>\n",
       "    .dataframe tbody tr th:only-of-type {\n",
       "        vertical-align: middle;\n",
       "    }\n",
       "\n",
       "    .dataframe tbody tr th {\n",
       "        vertical-align: top;\n",
       "    }\n",
       "\n",
       "    .dataframe thead th {\n",
       "        text-align: right;\n",
       "    }\n",
       "</style>\n",
       "<table border=\"1\" class=\"dataframe\">\n",
       "  <thead>\n",
       "    <tr style=\"text-align: right;\">\n",
       "      <th></th>\n",
       "      <th>prices</th>\n",
       "      <th>returns</th>\n",
       "      <th>ret_1</th>\n",
       "      <th>ret_2</th>\n",
       "      <th>ret_3</th>\n",
       "      <th>ret_4</th>\n",
       "      <th>ret_5</th>\n",
       "      <th>ewm20</th>\n",
       "    </tr>\n",
       "    <tr>\n",
       "      <th>Date</th>\n",
       "      <th></th>\n",
       "      <th></th>\n",
       "      <th></th>\n",
       "      <th></th>\n",
       "      <th></th>\n",
       "      <th></th>\n",
       "      <th></th>\n",
       "      <th></th>\n",
       "    </tr>\n",
       "  </thead>\n",
       "  <tbody>\n",
       "    <tr>\n",
       "      <th>2010-01-11</th>\n",
       "      <td>130.309998</td>\n",
       "      <td>-0.024335</td>\n",
       "      <td>0.026717</td>\n",
       "      <td>-0.017160</td>\n",
       "      <td>-0.018282</td>\n",
       "      <td>0.005883</td>\n",
       "      <td>-0.004620</td>\n",
       "      <td>-0.913415</td>\n",
       "    </tr>\n",
       "    <tr>\n",
       "      <th>2010-01-12</th>\n",
       "      <td>127.349998</td>\n",
       "      <td>-0.022977</td>\n",
       "      <td>-0.024335</td>\n",
       "      <td>0.026717</td>\n",
       "      <td>-0.017160</td>\n",
       "      <td>-0.018282</td>\n",
       "      <td>0.005883</td>\n",
       "      <td>-0.913949</td>\n",
       "    </tr>\n",
       "    <tr>\n",
       "      <th>2010-01-13</th>\n",
       "      <td>129.110001</td>\n",
       "      <td>0.013726</td>\n",
       "      <td>-0.022977</td>\n",
       "      <td>-0.024335</td>\n",
       "      <td>0.026717</td>\n",
       "      <td>-0.017160</td>\n",
       "      <td>-0.018282</td>\n",
       "      <td>-0.914114</td>\n",
       "    </tr>\n",
       "    <tr>\n",
       "      <th>2010-01-14</th>\n",
       "      <td>127.349998</td>\n",
       "      <td>-0.013726</td>\n",
       "      <td>0.013726</td>\n",
       "      <td>-0.022977</td>\n",
       "      <td>-0.024335</td>\n",
       "      <td>0.026717</td>\n",
       "      <td>-0.017160</td>\n",
       "      <td>-0.914581</td>\n",
       "    </tr>\n",
       "    <tr>\n",
       "      <th>2010-01-15</th>\n",
       "      <td>127.139999</td>\n",
       "      <td>-0.001650</td>\n",
       "      <td>-0.013726</td>\n",
       "      <td>0.013726</td>\n",
       "      <td>-0.022977</td>\n",
       "      <td>-0.024335</td>\n",
       "      <td>0.026717</td>\n",
       "      <td>-0.915041</td>\n",
       "    </tr>\n",
       "  </tbody>\n",
       "</table>\n",
       "</div>"
      ],
      "text/plain": [
       "                prices   returns     ret_1     ret_2     ret_3     ret_4  \\\n",
       "Date                                                                       \n",
       "2010-01-11  130.309998 -0.024335  0.026717 -0.017160 -0.018282  0.005883   \n",
       "2010-01-12  127.349998 -0.022977 -0.024335  0.026717 -0.017160 -0.018282   \n",
       "2010-01-13  129.110001  0.013726 -0.022977 -0.024335  0.026717 -0.017160   \n",
       "2010-01-14  127.349998 -0.013726  0.013726 -0.022977 -0.024335  0.026717   \n",
       "2010-01-15  127.139999 -0.001650 -0.013726  0.013726 -0.022977 -0.024335   \n",
       "\n",
       "               ret_5     ewm20  \n",
       "Date                            \n",
       "2010-01-11 -0.004620 -0.913415  \n",
       "2010-01-12  0.005883 -0.913949  \n",
       "2010-01-13 -0.018282 -0.914114  \n",
       "2010-01-14 -0.017160 -0.914581  \n",
       "2010-01-15  0.026717 -0.915041  "
      ]
     },
     "execution_count": 376,
     "metadata": {},
     "output_type": "execute_result"
    }
   ],
   "source": [
    "data.head()"
   ]
  },
  {
   "cell_type": "markdown",
   "metadata": {},
   "source": [
    "## RSI Feature"
   ]
  },
  {
   "cell_type": "code",
   "execution_count": 377,
   "metadata": {},
   "outputs": [],
   "source": [
    "def RSI(series, period):\n",
    " delta = series.diff().dropna()\n",
    " u = delta * 0\n",
    " d = u.copy()\n",
    " u[delta > 0] = delta[delta > 0]\n",
    " d[delta < 0] = -delta[delta < 0]\n",
    " u[u.index[period-1]] = np.mean( u[:period] ) #first value is sum of avg gains\n",
    " u = u.drop(u.index[:(period-1)])\n",
    " d[d.index[period-1]] = np.mean( d[:period] ) #first value is sum of avg losses\n",
    " d = d.drop(d.index[:(period-1)])\n",
    " #rs = pd.stats.moments.ewma(u, com=period-1, adjust=False) / \\\n",
    " #pd.stats.moments.ewma(d, com=period-1, adjust=False)\n",
    "\n",
    " rs = u.ewm(span=period-1, adjust=False).mean() / d.ewm(span=period-1, adjust=False).mean()\n",
    "\n",
    " return 100 - 100 / (1 + rs)"
   ]
  },
  {
   "cell_type": "code",
   "execution_count": 378,
   "metadata": {},
   "outputs": [],
   "source": [
    "rsi3 = RSI(data['prices'], 10)"
   ]
  },
  {
   "cell_type": "code",
   "execution_count": 379,
   "metadata": {},
   "outputs": [],
   "source": [
    "#pd.__version__\n",
    "#rsi3.unique()"
   ]
  },
  {
   "cell_type": "code",
   "execution_count": 380,
   "metadata": {},
   "outputs": [],
   "source": [
    "rsi3, mean, std = gaussian(rsi3)"
   ]
  },
  {
   "cell_type": "code",
   "execution_count": 381,
   "metadata": {},
   "outputs": [],
   "source": [
    "rsi3.dropna(inplace=True)"
   ]
  },
  {
   "cell_type": "code",
   "execution_count": 382,
   "metadata": {},
   "outputs": [],
   "source": [
    "#data['rsi'] = rsi3\n",
    "#cols.append('rsi')"
   ]
  },
  {
   "cell_type": "code",
   "execution_count": 383,
   "metadata": {},
   "outputs": [],
   "source": [
    "data.dropna(inplace=True)"
   ]
  },
  {
   "cell_type": "code",
   "execution_count": 384,
   "metadata": {},
   "outputs": [
    {
     "data": {
      "text/html": [
       "<div>\n",
       "<style scoped>\n",
       "    .dataframe tbody tr th:only-of-type {\n",
       "        vertical-align: middle;\n",
       "    }\n",
       "\n",
       "    .dataframe tbody tr th {\n",
       "        vertical-align: top;\n",
       "    }\n",
       "\n",
       "    .dataframe thead th {\n",
       "        text-align: right;\n",
       "    }\n",
       "</style>\n",
       "<table border=\"1\" class=\"dataframe\">\n",
       "  <thead>\n",
       "    <tr style=\"text-align: right;\">\n",
       "      <th></th>\n",
       "      <th>prices</th>\n",
       "      <th>returns</th>\n",
       "      <th>ret_1</th>\n",
       "      <th>ret_2</th>\n",
       "      <th>ret_3</th>\n",
       "      <th>ret_4</th>\n",
       "      <th>ret_5</th>\n",
       "      <th>ewm20</th>\n",
       "    </tr>\n",
       "    <tr>\n",
       "      <th>Date</th>\n",
       "      <th></th>\n",
       "      <th></th>\n",
       "      <th></th>\n",
       "      <th></th>\n",
       "      <th></th>\n",
       "      <th></th>\n",
       "      <th></th>\n",
       "      <th></th>\n",
       "    </tr>\n",
       "  </thead>\n",
       "  <tbody>\n",
       "    <tr>\n",
       "      <th>2010-01-11</th>\n",
       "      <td>130.309998</td>\n",
       "      <td>-0.024335</td>\n",
       "      <td>0.026717</td>\n",
       "      <td>-0.017160</td>\n",
       "      <td>-0.018282</td>\n",
       "      <td>0.005883</td>\n",
       "      <td>-0.004620</td>\n",
       "      <td>-0.913415</td>\n",
       "    </tr>\n",
       "    <tr>\n",
       "      <th>2010-01-12</th>\n",
       "      <td>127.349998</td>\n",
       "      <td>-0.022977</td>\n",
       "      <td>-0.024335</td>\n",
       "      <td>0.026717</td>\n",
       "      <td>-0.017160</td>\n",
       "      <td>-0.018282</td>\n",
       "      <td>0.005883</td>\n",
       "      <td>-0.913949</td>\n",
       "    </tr>\n",
       "    <tr>\n",
       "      <th>2010-01-13</th>\n",
       "      <td>129.110001</td>\n",
       "      <td>0.013726</td>\n",
       "      <td>-0.022977</td>\n",
       "      <td>-0.024335</td>\n",
       "      <td>0.026717</td>\n",
       "      <td>-0.017160</td>\n",
       "      <td>-0.018282</td>\n",
       "      <td>-0.914114</td>\n",
       "    </tr>\n",
       "    <tr>\n",
       "      <th>2010-01-14</th>\n",
       "      <td>127.349998</td>\n",
       "      <td>-0.013726</td>\n",
       "      <td>0.013726</td>\n",
       "      <td>-0.022977</td>\n",
       "      <td>-0.024335</td>\n",
       "      <td>0.026717</td>\n",
       "      <td>-0.017160</td>\n",
       "      <td>-0.914581</td>\n",
       "    </tr>\n",
       "    <tr>\n",
       "      <th>2010-01-15</th>\n",
       "      <td>127.139999</td>\n",
       "      <td>-0.001650</td>\n",
       "      <td>-0.013726</td>\n",
       "      <td>0.013726</td>\n",
       "      <td>-0.022977</td>\n",
       "      <td>-0.024335</td>\n",
       "      <td>0.026717</td>\n",
       "      <td>-0.915041</td>\n",
       "    </tr>\n",
       "  </tbody>\n",
       "</table>\n",
       "</div>"
      ],
      "text/plain": [
       "                prices   returns     ret_1     ret_2     ret_3     ret_4  \\\n",
       "Date                                                                       \n",
       "2010-01-11  130.309998 -0.024335  0.026717 -0.017160 -0.018282  0.005883   \n",
       "2010-01-12  127.349998 -0.022977 -0.024335  0.026717 -0.017160 -0.018282   \n",
       "2010-01-13  129.110001  0.013726 -0.022977 -0.024335  0.026717 -0.017160   \n",
       "2010-01-14  127.349998 -0.013726  0.013726 -0.022977 -0.024335  0.026717   \n",
       "2010-01-15  127.139999 -0.001650 -0.013726  0.013726 -0.022977 -0.024335   \n",
       "\n",
       "               ret_5     ewm20  \n",
       "Date                            \n",
       "2010-01-11 -0.004620 -0.913415  \n",
       "2010-01-12  0.005883 -0.913949  \n",
       "2010-01-13 -0.018282 -0.914114  \n",
       "2010-01-14 -0.017160 -0.914581  \n",
       "2010-01-15  0.026717 -0.915041  "
      ]
     },
     "execution_count": 384,
     "metadata": {},
     "output_type": "execute_result"
    }
   ],
   "source": [
    "data.head()"
   ]
  },
  {
   "cell_type": "code",
   "execution_count": 385,
   "metadata": {},
   "outputs": [
    {
     "data": {
      "text/plain": [
       "['ret_1', 'ret_2', 'ret_3', 'ret_4', 'ret_5', 'ewm20']"
      ]
     },
     "execution_count": 385,
     "metadata": {},
     "output_type": "execute_result"
    }
   ],
   "source": [
    "cols"
   ]
  },
  {
   "cell_type": "code",
   "execution_count": 386,
   "metadata": {},
   "outputs": [],
   "source": [
    "#cols.append('rsi')"
   ]
  },
  {
   "cell_type": "markdown",
   "metadata": {},
   "source": [
    "## MACD Feature"
   ]
  },
  {
   "cell_type": "code",
   "execution_count": 387,
   "metadata": {},
   "outputs": [],
   "source": [
    "def MACD(series, period):\n",
    " exp1 = series.ewm(span=12, adjust=False).mean()\n",
    " exp2 = series.ewm(span=26, adjust=False).mean()\n",
    " macd = exp1-exp2\n",
    "\n",
    " return macd"
   ]
  },
  {
   "cell_type": "code",
   "execution_count": 388,
   "metadata": {},
   "outputs": [],
   "source": [
    "rsi3 = RSI(data['prices'], 10)"
   ]
  },
  {
   "cell_type": "code",
   "execution_count": 389,
   "metadata": {},
   "outputs": [],
   "source": [
    "macd3, mean, std = gaussian(macd3)"
   ]
  },
  {
   "cell_type": "code",
   "execution_count": 390,
   "metadata": {},
   "outputs": [],
   "source": [
    "macd3.dropna(inplace=True)"
   ]
  },
  {
   "cell_type": "code",
   "execution_count": 391,
   "metadata": {},
   "outputs": [],
   "source": [
    "data['macd'] = macd3\n",
    "cols.append('macd')"
   ]
  },
  {
   "cell_type": "code",
   "execution_count": 392,
   "metadata": {},
   "outputs": [
    {
     "data": {
      "text/html": [
       "<div>\n",
       "<style scoped>\n",
       "    .dataframe tbody tr th:only-of-type {\n",
       "        vertical-align: middle;\n",
       "    }\n",
       "\n",
       "    .dataframe tbody tr th {\n",
       "        vertical-align: top;\n",
       "    }\n",
       "\n",
       "    .dataframe thead th {\n",
       "        text-align: right;\n",
       "    }\n",
       "</style>\n",
       "<table border=\"1\" class=\"dataframe\">\n",
       "  <thead>\n",
       "    <tr style=\"text-align: right;\">\n",
       "      <th></th>\n",
       "      <th>prices</th>\n",
       "      <th>returns</th>\n",
       "      <th>ret_1</th>\n",
       "      <th>ret_2</th>\n",
       "      <th>ret_3</th>\n",
       "      <th>ret_4</th>\n",
       "      <th>ret_5</th>\n",
       "      <th>ewm20</th>\n",
       "      <th>macd</th>\n",
       "    </tr>\n",
       "    <tr>\n",
       "      <th>Date</th>\n",
       "      <th></th>\n",
       "      <th></th>\n",
       "      <th></th>\n",
       "      <th></th>\n",
       "      <th></th>\n",
       "      <th></th>\n",
       "      <th></th>\n",
       "      <th></th>\n",
       "      <th></th>\n",
       "    </tr>\n",
       "  </thead>\n",
       "  <tbody>\n",
       "    <tr>\n",
       "      <th>2010-01-11</th>\n",
       "      <td>130.309998</td>\n",
       "      <td>-0.024335</td>\n",
       "      <td>0.026717</td>\n",
       "      <td>-0.01716</td>\n",
       "      <td>-0.018282</td>\n",
       "      <td>0.005883</td>\n",
       "      <td>-0.00462</td>\n",
       "      <td>-0.913415</td>\n",
       "      <td>-0.334896</td>\n",
       "    </tr>\n",
       "  </tbody>\n",
       "</table>\n",
       "</div>"
      ],
      "text/plain": [
       "                prices   returns     ret_1    ret_2     ret_3     ret_4  \\\n",
       "Date                                                                      \n",
       "2010-01-11  130.309998 -0.024335  0.026717 -0.01716 -0.018282  0.005883   \n",
       "\n",
       "              ret_5     ewm20      macd  \n",
       "Date                                     \n",
       "2010-01-11 -0.00462 -0.913415 -0.334896  "
      ]
     },
     "execution_count": 392,
     "metadata": {},
     "output_type": "execute_result"
    }
   ],
   "source": [
    "data.head(1)"
   ]
  },
  {
   "cell_type": "code",
   "execution_count": 393,
   "metadata": {},
   "outputs": [
    {
     "data": {
      "text/plain": [
       "['ret_1', 'ret_2', 'ret_3', 'ret_4', 'ret_5', 'ewm20', 'macd']"
      ]
     },
     "execution_count": 393,
     "metadata": {},
     "output_type": "execute_result"
    }
   ],
   "source": [
    "cols"
   ]
  },
  {
   "cell_type": "markdown",
   "metadata": {},
   "source": [
    "## Variance Feature"
   ]
  },
  {
   "cell_type": "code",
   "execution_count": 430,
   "metadata": {},
   "outputs": [],
   "source": [
    "data['v1'] = data['prices'].rolling(5).std()\n",
    "data['v2'] = data['prices'].rolling(20).std()\n",
    "cols.append('v1')\n",
    "cols.append('v2')\n",
    "\n",
    "#data['ewm20'] = data['prices'].ewm(span=20, adjust=False).std()\n",
    "#data['ewm20'], mean, std = gaussian(data['ewm20'])\n"
   ]
  },
  {
   "cell_type": "markdown",
   "metadata": {},
   "source": [
    "## EWMA for Variance"
   ]
  },
  {
   "cell_type": "code",
   "execution_count": 434,
   "metadata": {},
   "outputs": [],
   "source": [
    "#pd.ewstd\n",
    "data['ewmstd'] = data['prices'].ewm(span=20, adjust=False).std()\n",
    "#data['ewma_v1'] = data['prices'].ewmstd(span=20, adjust=False).std()\n",
    "#data['ewma_v2'], mean, std = gaussian(data['ewm20'])\n",
    "#cols.append('ewm20')\n",
    "\n",
    "#pandas.ewmstd(arg, com=None, span=None, halflife=None, min_periods=0, bias=False, ignore_na=False, adjust=True)"
   ]
  },
  {
   "cell_type": "code",
   "execution_count": 440,
   "metadata": {},
   "outputs": [],
   "source": [
    "data['ewmstd'], mean, std = gaussian(data['ewmstd'])\n",
    "cols.append('ewmstd')"
   ]
  },
  {
   "cell_type": "code",
   "execution_count": 441,
   "metadata": {},
   "outputs": [],
   "source": [
    "data.dropna(inplace=True)"
   ]
  },
  {
   "cell_type": "markdown",
   "metadata": {},
   "source": [
    "## OLS Regression"
   ]
  },
  {
   "cell_type": "code",
   "execution_count": 442,
   "metadata": {},
   "outputs": [
    {
     "name": "stderr",
     "output_type": "stream",
     "text": [
      "C:\\Users\\deepa\\Anaconda2\\envs\\ana5py36\\lib\\site-packages\\ipykernel_launcher.py:1: FutureWarning: `rcond` parameter will change to the default of machine precision times ``max(M, N)`` where M and N are the input matrix dimensions.\n",
      "To use the future default and silence this warning we advise to pass `rcond=None`, to keep using the old, explicitly pass `rcond=-1`.\n",
      "  \"\"\"Entry point for launching an IPython kernel.\n"
     ]
    }
   ],
   "source": [
    "reg = np.linalg.lstsq(data[cols].values, np.sign(data['returns'].values))[0]"
   ]
  },
  {
   "cell_type": "code",
   "execution_count": 443,
   "metadata": {},
   "outputs": [
    {
     "data": {
      "text/plain": [
       "['ret_1',\n",
       " 'ret_2',\n",
       " 'ret_3',\n",
       " 'ret_4',\n",
       " 'ret_5',\n",
       " 'ewm20',\n",
       " 'macd',\n",
       " 'v1',\n",
       " 'v2',\n",
       " 'ewmstd']"
      ]
     },
     "execution_count": 443,
     "metadata": {},
     "output_type": "execute_result"
    }
   ],
   "source": [
    "cols"
   ]
  },
  {
   "cell_type": "code",
   "execution_count": 444,
   "metadata": {},
   "outputs": [
    {
     "data": {
      "text/plain": [
       "array([-1.09899435e+00, -1.17617845e+00, -7.63751805e-01, -1.64653616e+00,\n",
       "        3.61984750e-02,  3.33429269e-02,  5.14309980e-02, -4.95872632e-04,\n",
       "        4.42040201e-03, -8.45884002e-02])"
      ]
     },
     "execution_count": 444,
     "metadata": {},
     "output_type": "execute_result"
    }
   ],
   "source": [
    "reg"
   ]
  },
  {
   "cell_type": "code",
   "execution_count": 445,
   "metadata": {},
   "outputs": [],
   "source": [
    "pred = np.sign(np.dot(data[cols].values, reg))"
   ]
  },
  {
   "cell_type": "code",
   "execution_count": 446,
   "metadata": {},
   "outputs": [
    {
     "data": {
      "text/plain": [
       "array([1., 1., 1., ..., 1., 1., 1.])"
      ]
     },
     "execution_count": 446,
     "metadata": {},
     "output_type": "execute_result"
    }
   ],
   "source": [
    "pred"
   ]
  },
  {
   "cell_type": "code",
   "execution_count": 447,
   "metadata": {},
   "outputs": [
    {
     "data": {
      "text/plain": [
       "array([-1.,  1., -1., ...,  1.,  1.,  1.])"
      ]
     },
     "execution_count": 447,
     "metadata": {},
     "output_type": "execute_result"
    }
   ],
   "source": [
    "np.sign(data['returns'].values)"
   ]
  },
  {
   "cell_type": "code",
   "execution_count": 448,
   "metadata": {},
   "outputs": [],
   "source": [
    "data['ols_pred'] = pred"
   ]
  },
  {
   "cell_type": "code",
   "execution_count": 449,
   "metadata": {},
   "outputs": [],
   "source": [
    "c = np.sign(data['returns'] * data['ols_pred'])"
   ]
  },
  {
   "cell_type": "code",
   "execution_count": 450,
   "metadata": {},
   "outputs": [
    {
     "data": {
      "text/plain": [
       " 1.0    1264\n",
       "-1.0    1101\n",
       " 0.0       6\n",
       "dtype: int64"
      ]
     },
     "execution_count": 450,
     "metadata": {},
     "output_type": "execute_result"
    }
   ],
   "source": [
    "c.value_counts()"
   ]
  },
  {
   "cell_type": "code",
   "execution_count": 451,
   "metadata": {},
   "outputs": [
    {
     "data": {
      "text/plain": [
       "0.5331083930830873"
      ]
     },
     "execution_count": 451,
     "metadata": {},
     "output_type": "execute_result"
    }
   ],
   "source": [
    "c.value_counts()[1] / (c.value_counts().sum())"
   ]
  },
  {
   "cell_type": "code",
   "execution_count": 452,
   "metadata": {},
   "outputs": [],
   "source": [
    "data['ols_returns'] = data['returns'] * data['ols_pred']"
   ]
  },
  {
   "cell_type": "code",
   "execution_count": 453,
   "metadata": {},
   "outputs": [
    {
     "data": {
      "image/png": "[encoded data removed]",
      "text/plain": [
       "<Figure size 720x432 with 1 Axes>"
      ]
     },
     "metadata": {},
     "output_type": "display_data"
    }
   ],
   "source": [
    "data[['returns', 'ols_returns']].cumsum().apply(np.exp).plot(figsize=(10, 6));"
   ]
  },
  {
   "cell_type": "markdown",
   "metadata": {},
   "source": [
    "## Logistic Regression"
   ]
  },
  {
   "cell_type": "code",
   "execution_count": 454,
   "metadata": {},
   "outputs": [],
   "source": [
    "from sklearn import linear_model"
   ]
  },
  {
   "cell_type": "code",
   "execution_count": 455,
   "metadata": {},
   "outputs": [],
   "source": [
    "lm = linear_model.LogisticRegression(C = 1e6)"
   ]
  },
  {
   "cell_type": "code",
   "execution_count": 456,
   "metadata": {},
   "outputs": [
    {
     "data": {
      "text/plain": [
       "LogisticRegression(C=1000000.0, class_weight=None, dual=False,\n",
       "          fit_intercept=True, intercept_scaling=1, max_iter=100,\n",
       "          multi_class='ovr', n_jobs=1, penalty='l2', random_state=None,\n",
       "          solver='liblinear', tol=0.0001, verbose=0, warm_start=False)"
      ]
     },
     "execution_count": 456,
     "metadata": {},
     "output_type": "execute_result"
    }
   ],
   "source": [
    "lm.fit(data[cols], np.sign(data['returns']))"
   ]
  },
  {
   "cell_type": "code",
   "execution_count": 457,
   "metadata": {},
   "outputs": [],
   "source": [
    "data['log_pred'] = lm.predict(data[cols])"
   ]
  },
  {
   "cell_type": "code",
   "execution_count": 458,
   "metadata": {},
   "outputs": [
    {
     "data": {
      "text/html": [
       "<div>\n",
       "<style scoped>\n",
       "    .dataframe tbody tr th:only-of-type {\n",
       "        vertical-align: middle;\n",
       "    }\n",
       "\n",
       "    .dataframe tbody tr th {\n",
       "        vertical-align: top;\n",
       "    }\n",
       "\n",
       "    .dataframe thead th {\n",
       "        text-align: right;\n",
       "    }\n",
       "</style>\n",
       "<table border=\"1\" class=\"dataframe\">\n",
       "  <thead>\n",
       "    <tr style=\"text-align: right;\">\n",
       "      <th></th>\n",
       "      <th>prices</th>\n",
       "      <th>returns</th>\n",
       "      <th>ret_1</th>\n",
       "      <th>ret_2</th>\n",
       "      <th>ret_3</th>\n",
       "      <th>ret_4</th>\n",
       "      <th>ret_5</th>\n",
       "      <th>ewm20</th>\n",
       "      <th>macd</th>\n",
       "      <th>ols_pred</th>\n",
       "      <th>ols_returns</th>\n",
       "      <th>log_pred</th>\n",
       "      <th>log_returns</th>\n",
       "      <th>dnn_pred</th>\n",
       "      <th>dnn_returns</th>\n",
       "      <th>v1</th>\n",
       "      <th>v2</th>\n",
       "      <th>ewmstd</th>\n",
       "    </tr>\n",
       "    <tr>\n",
       "      <th>Date</th>\n",
       "      <th></th>\n",
       "      <th></th>\n",
       "      <th></th>\n",
       "      <th></th>\n",
       "      <th></th>\n",
       "      <th></th>\n",
       "      <th></th>\n",
       "      <th></th>\n",
       "      <th></th>\n",
       "      <th></th>\n",
       "      <th></th>\n",
       "      <th></th>\n",
       "      <th></th>\n",
       "      <th></th>\n",
       "      <th></th>\n",
       "      <th></th>\n",
       "      <th></th>\n",
       "      <th></th>\n",
       "    </tr>\n",
       "  </thead>\n",
       "  <tbody>\n",
       "    <tr>\n",
       "      <th>2010-02-08</th>\n",
       "      <td>116.830002</td>\n",
       "      <td>-0.004782</td>\n",
       "      <td>0.012429</td>\n",
       "      <td>-0.026891</td>\n",
       "      <td>0.008262</td>\n",
       "      <td>-0.006329</td>\n",
       "      <td>-0.053558</td>\n",
       "      <td>-0.928657</td>\n",
       "      <td>-0.538502</td>\n",
       "      <td>1.0</td>\n",
       "      <td>-0.004782</td>\n",
       "      <td>1.0</td>\n",
       "      <td>-0.004782</td>\n",
       "      <td>-1.0</td>\n",
       "      <td>0.004782</td>\n",
       "      <td>1.207902</td>\n",
       "      <td>4.588413</td>\n",
       "      <td>-0.782890</td>\n",
       "    </tr>\n",
       "    <tr>\n",
       "      <th>2010-02-09</th>\n",
       "      <td>118.029999</td>\n",
       "      <td>0.010219</td>\n",
       "      <td>-0.004782</td>\n",
       "      <td>0.012429</td>\n",
       "      <td>-0.026891</td>\n",
       "      <td>0.008262</td>\n",
       "      <td>-0.006329</td>\n",
       "      <td>-0.929418</td>\n",
       "      <td>-0.534923</td>\n",
       "      <td>1.0</td>\n",
       "      <td>0.010219</td>\n",
       "      <td>1.0</td>\n",
       "      <td>0.010219</td>\n",
       "      <td>-1.0</td>\n",
       "      <td>-0.010219</td>\n",
       "      <td>1.196522</td>\n",
       "      <td>4.397009</td>\n",
       "      <td>-0.787389</td>\n",
       "    </tr>\n",
       "    <tr>\n",
       "      <th>2010-02-10</th>\n",
       "      <td>117.360001</td>\n",
       "      <td>-0.005693</td>\n",
       "      <td>0.010219</td>\n",
       "      <td>-0.004782</td>\n",
       "      <td>0.012429</td>\n",
       "      <td>-0.026891</td>\n",
       "      <td>0.008262</td>\n",
       "      <td>-0.930227</td>\n",
       "      <td>-0.533331</td>\n",
       "      <td>1.0</td>\n",
       "      <td>-0.005693</td>\n",
       "      <td>1.0</td>\n",
       "      <td>-0.005693</td>\n",
       "      <td>1.0</td>\n",
       "      <td>-0.005693</td>\n",
       "      <td>0.780159</td>\n",
       "      <td>4.388361</td>\n",
       "      <td>-0.790542</td>\n",
       "    </tr>\n",
       "    <tr>\n",
       "      <th>2010-02-11</th>\n",
       "      <td>120.089996</td>\n",
       "      <td>0.022995</td>\n",
       "      <td>-0.005693</td>\n",
       "      <td>0.010219</td>\n",
       "      <td>-0.004782</td>\n",
       "      <td>0.012429</td>\n",
       "      <td>-0.026891</td>\n",
       "      <td>-0.930467</td>\n",
       "      <td>-0.515594</td>\n",
       "      <td>1.0</td>\n",
       "      <td>0.022995</td>\n",
       "      <td>1.0</td>\n",
       "      <td>-0.022995</td>\n",
       "      <td>1.0</td>\n",
       "      <td>0.022995</td>\n",
       "      <td>1.274910</td>\n",
       "      <td>4.075084</td>\n",
       "      <td>-0.800873</td>\n",
       "    </tr>\n",
       "    <tr>\n",
       "      <th>2010-02-12</th>\n",
       "      <td>119.660004</td>\n",
       "      <td>-0.003587</td>\n",
       "      <td>0.022995</td>\n",
       "      <td>-0.005693</td>\n",
       "      <td>0.010219</td>\n",
       "      <td>-0.004782</td>\n",
       "      <td>0.012429</td>\n",
       "      <td>-0.930762</td>\n",
       "      <td>-0.501880</td>\n",
       "      <td>1.0</td>\n",
       "      <td>-0.003587</td>\n",
       "      <td>1.0</td>\n",
       "      <td>-0.003587</td>\n",
       "      <td>-1.0</td>\n",
       "      <td>0.003587</td>\n",
       "      <td>1.425387</td>\n",
       "      <td>3.859284</td>\n",
       "      <td>-0.810213</td>\n",
       "    </tr>\n",
       "  </tbody>\n",
       "</table>\n",
       "</div>"
      ],
      "text/plain": [
       "                prices   returns     ret_1     ret_2     ret_3     ret_4  \\\n",
       "Date                                                                       \n",
       "2010-02-08  116.830002 -0.004782  0.012429 -0.026891  0.008262 -0.006329   \n",
       "2010-02-09  118.029999  0.010219 -0.004782  0.012429 -0.026891  0.008262   \n",
       "2010-02-10  117.360001 -0.005693  0.010219 -0.004782  0.012429 -0.026891   \n",
       "2010-02-11  120.089996  0.022995 -0.005693  0.010219 -0.004782  0.012429   \n",
       "2010-02-12  119.660004 -0.003587  0.022995 -0.005693  0.010219 -0.004782   \n",
       "\n",
       "               ret_5     ewm20      macd  ols_pred  ols_returns  log_pred  \\\n",
       "Date                                                                        \n",
       "2010-02-08 -0.053558 -0.928657 -0.538502       1.0    -0.004782       1.0   \n",
       "2010-02-09 -0.006329 -0.929418 -0.534923       1.0     0.010219       1.0   \n",
       "2010-02-10  0.008262 -0.930227 -0.533331       1.0    -0.005693       1.0   \n",
       "2010-02-11 -0.026891 -0.930467 -0.515594       1.0     0.022995       1.0   \n",
       "2010-02-12  0.012429 -0.930762 -0.501880       1.0    -0.003587       1.0   \n",
       "\n",
       "            log_returns  dnn_pred  dnn_returns        v1        v2    ewmstd  \n",
       "Date                                                                          \n",
       "2010-02-08    -0.004782      -1.0     0.004782  1.207902  4.588413 -0.782890  \n",
       "2010-02-09     0.010219      -1.0    -0.010219  1.196522  4.397009 -0.787389  \n",
       "2010-02-10    -0.005693       1.0    -0.005693  0.780159  4.388361 -0.790542  \n",
       "2010-02-11    -0.022995       1.0     0.022995  1.274910  4.075084 -0.800873  \n",
       "2010-02-12    -0.003587      -1.0     0.003587  1.425387  3.859284 -0.810213  "
      ]
     },
     "execution_count": 458,
     "metadata": {},
     "output_type": "execute_result"
    }
   ],
   "source": [
    "data.head()"
   ]
  },
  {
   "cell_type": "code",
   "execution_count": 459,
   "metadata": {},
   "outputs": [],
   "source": [
    "data['log_returns'] = data['returns'] * data['log_pred']"
   ]
  },
  {
   "cell_type": "code",
   "execution_count": 460,
   "metadata": {},
   "outputs": [
    {
     "data": {
      "image/png": "[encoded data removed]",
      "text/plain": [
       "<Figure size 720x432 with 1 Axes>"
      ]
     },
     "metadata": {},
     "output_type": "display_data"
    }
   ],
   "source": [
    "data[['returns', 'ols_returns', 'log_returns']].cumsum(\n",
    "        ).apply(np.exp).plot(figsize=(10, 6));"
   ]
  },
  {
   "cell_type": "markdown",
   "metadata": {},
   "source": [
    "## Deep Neural Network"
   ]
  },
  {
   "cell_type": "code",
   "execution_count": 461,
   "metadata": {},
   "outputs": [],
   "source": [
    "import tensorflow as tf"
   ]
  },
  {
   "cell_type": "code",
   "execution_count": 462,
   "metadata": {},
   "outputs": [],
   "source": [
    "tf.logging.set_verbosity(tf.logging.ERROR)"
   ]
  },
  {
   "cell_type": "code",
   "execution_count": 463,
   "metadata": {},
   "outputs": [],
   "source": [
    "mean = data['returns'].mean()"
   ]
  },
  {
   "cell_type": "code",
   "execution_count": 464,
   "metadata": {},
   "outputs": [],
   "source": [
    "std = data['returns'].std()"
   ]
  },
  {
   "cell_type": "code",
   "execution_count": 465,
   "metadata": {},
   "outputs": [
    {
     "name": "stdout",
     "output_type": "stream",
     "text": [
      "0.001198157307766946 0.019738324150745484\n"
     ]
    }
   ],
   "source": [
    "print(mean, std)"
   ]
  },
  {
   "cell_type": "code",
   "execution_count": 466,
   "metadata": {},
   "outputs": [],
   "source": [
    "fc = tf.contrib.layers.real_valued_column('returns', dimension=len(cols))"
   ]
  },
  {
   "cell_type": "code",
   "execution_count": 467,
   "metadata": {},
   "outputs": [],
   "source": [
    "## DEEPAK - This is the major improvement step\n",
    "## Adding the below line improves the accuracy by great extent.\n",
    "\n",
    "# Check at time 12:03 the boundary can be mean-stddev, mean, mean+stddev\n",
    "# Definitely this can be discussed with different values and \n",
    "# Strategy performance can be compared.\n",
    "\n",
    "#fcb = [tf.contrib.layers.bucketized_column(fc, boundaries=[-0.0005, 0.0001, 0.0005])]\n",
    "fcb = [tf.contrib.layers.bucketized_column(fc, boundaries=[mean-std, mean, mean+std])]"
   ]
  },
  {
   "cell_type": "code",
   "execution_count": 468,
   "metadata": {},
   "outputs": [],
   "source": [
    "## DEEPAK - we can tweak the hidden_units\n",
    "model = tf.contrib.learn.DNNClassifier(hidden_units=[50, 50],\n",
    "                                       feature_columns=fcb)"
   ]
  },
  {
   "cell_type": "code",
   "execution_count": 469,
   "metadata": {},
   "outputs": [
    {
     "data": {
      "text/plain": [
       "array([[ 1.24288827e-02, -2.68906266e-02,  8.26238342e-03, ...,\n",
       "         1.20790198e+00,  4.58841288e+00, -7.82889665e-01],\n",
       "       [-4.78181729e-03,  1.24288827e-02, -2.68906266e-02, ...,\n",
       "         1.19652246e+00,  4.39700916e+00, -7.87389383e-01],\n",
       "       [ 1.02189167e-02, -4.78181729e-03,  1.24288827e-02, ...,\n",
       "         7.80158795e-01,  4.38836120e+00, -7.90541793e-01],\n",
       "       ...,\n",
       "       [ 2.01449053e-03,  2.42167223e-03,  6.28557349e-03, ...,\n",
       "         1.11089642e+01,  2.88994899e+01,  1.23061852e+00],\n",
       "       [ 4.83151468e-03,  2.01449053e-03,  2.42167223e-03, ...,\n",
       "         2.16815613e+01,  3.32413084e+01,  1.41334695e+00],\n",
       "       [ 1.82616454e-02,  4.83151468e-03,  2.01449053e-03, ...,\n",
       "         3.14617094e+01,  3.88375923e+01,  1.65631423e+00]])"
      ]
     },
     "execution_count": 469,
     "metadata": {},
     "output_type": "execute_result"
    }
   ],
   "source": [
    "cols\n",
    "len(data)\n",
    "fc = {'returns': tf.constant(data[cols].values)}\n",
    "data[cols].values"
   ]
  },
  {
   "cell_type": "code",
   "execution_count": 470,
   "metadata": {},
   "outputs": [],
   "source": [
    "def get_data():\n",
    "    fc = {'returns': tf.constant(data[cols].values)}\n",
    "    # This gives us True or False and then we convert to 1 or 0\n",
    "    la = tf.constant((data['returns'] > 0).astype(int).values,\n",
    "                     shape=[len(data), 1])\n",
    "    return fc, la"
   ]
  },
  {
   "cell_type": "code",
   "execution_count": 471,
   "metadata": {},
   "outputs": [
    {
     "data": {
      "text/plain": [
       "DNNClassifier(params={'head': <tensorflow.contrib.learn.python.learn.estimators.head._BinaryLogisticHead object at 0x00000289A30C0DA0>, 'hidden_units': [50, 50], 'feature_columns': (_BucketizedColumn(source_column=_RealValuedColumn(column_name='returns', dimension=10, default_value=None, dtype=tf.float32, normalizer=None), boundaries=(-0.018540166842978538, 0.001198157307766946, 0.02093648145851243)),), 'optimizer': None, 'activation_fn': <function relu at 0x000002899D9FF400>, 'dropout': None, 'gradient_clip_norm': None, 'embedding_lr_multipliers': None, 'input_layer_min_slice_size': None})"
      ]
     },
     "execution_count": 471,
     "metadata": {},
     "output_type": "execute_result"
    }
   ],
   "source": [
    "model.fit(input_fn=get_data, steps=100)"
   ]
  },
  {
   "cell_type": "code",
   "execution_count": 472,
   "metadata": {},
   "outputs": [
    {
     "data": {
      "text/plain": [
       "{'loss': 0.68541276,\n",
       " 'accuracy': 0.54829186,\n",
       " 'labels/prediction_mean': 0.5351034,\n",
       " 'labels/actual_label_mean': 0.53479546,\n",
       " 'accuracy/baseline_label_mean': 0.53479546,\n",
       " 'auc': 0.55854946,\n",
       " 'auc_precision_recall': 0.58898723,\n",
       " 'accuracy/threshold_0.500000_mean': 0.54829186,\n",
       " 'precision/positive_threshold_0.500000_mean': 0.551222,\n",
       " 'recall/positive_threshold_0.500000_mean': 0.8359621,\n",
       " 'global_step': 100}"
      ]
     },
     "execution_count": 472,
     "metadata": {},
     "output_type": "execute_result"
    }
   ],
   "source": [
    "model.evaluate(input_fn=get_data, steps=1)"
   ]
  },
  {
   "cell_type": "code",
   "execution_count": 473,
   "metadata": {},
   "outputs": [],
   "source": [
    "data['dnn_pred'] = list(model.predict(input_fn=get_data))\n",
    "data['dnn_pred'] = np.where(data['dnn_pred'] > 0, 1.0, -1.0)"
   ]
  },
  {
   "cell_type": "code",
   "execution_count": 474,
   "metadata": {},
   "outputs": [],
   "source": [
    "data['dnn_returns'] = data['returns'] * data['dnn_pred']"
   ]
  },
  {
   "cell_type": "code",
   "execution_count": 475,
   "metadata": {
    "scrolled": true
   },
   "outputs": [
    {
     "data": {
      "image/png": "[encoded data removed]",
      "text/plain": [
       "<Figure size 720x432 with 1 Axes>"
      ]
     },
     "metadata": {},
     "output_type": "display_data"
    }
   ],
   "source": [
    "data[['returns', 'ols_returns', 'log_returns', 'dnn_returns']].cumsum(\n",
    "        ).apply(np.exp).plot(figsize=(10, 6));"
   ]
  },
  {
   "cell_type": "markdown",
   "metadata": {},
   "source": [
    "<img src=\"http://hilpisch.com/tpq_logo.png\" width=350px align=\"right\">"
   ]
  },
  {
   "cell_type": "code",
   "execution_count": null,
   "metadata": {},
   "outputs": [],
   "source": []
  },
  {
   "cell_type": "code",
   "execution_count": null,
   "metadata": {},
   "outputs": [],
   "source": []
  }
 ],
 "metadata": {
  "kernelspec": {
   "display_name": "Python 3",
   "language": "python",
   "name": "python3"
  },
  "language_info": {
   "codemirror_mode": {
    "name": "ipython",
    "version": 3
   },
   "file_extension": ".py",
   "mimetype": "text/x-python",
   "name": "python",
   "nbconvert_exporter": "python",
   "pygments_lexer": "ipython3",
   "version": "3.6.5"
  }
 },
 "nbformat": 4,
 "nbformat_minor": 2
}
